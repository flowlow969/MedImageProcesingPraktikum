{
 "cells": [
  {
   "cell_type": "markdown",
   "metadata": {},
   "source": [
    "# Digitale Bildverarbeitung mit Python\n",
    "\n",
    "Dieses Praktikum soll eine kurze Einführung in die Sprache Python geben. Des Weiteren werden der Zugriff und die Konvertierung von Bilddaten sowie Histogramme und Intensitätstransformationen thematisiert. \n",
    "Erstellt 2019 von Dennis Bode, Bearbeitet 2020 von Tobias Bürmann\n"
   ]
  },
  {
   "cell_type": "markdown",
   "metadata": {},
   "source": [
    "## Hinweise zum Praktikum \n",
    "\n",
    "Das Praktikum zur Vorlesung Bildverarbeitung in der Medizin dient dazu, die Vorlesungsinhalte zu festigen und ist als Studienleistung Bestandteil des Kurses. \n",
    "\n",
    "Die Aufgaben sind auf dem Jupyterhub-Server zu bearbeiten und innerhalb von zwei Wochen im StudIP abzugeben."
   ]
  },
  {
   "cell_type": "markdown",
   "metadata": {},
   "source": [
    "## Python"
   ]
  },
  {
   "cell_type": "markdown",
   "metadata": {},
   "source": [
    "Python ist eine freie High-Level Programmiersprache (z.B. Numerische Berechnungen, Web-Entwicklung, usw.):\n",
    "\n",
    "- Unterstützung gängiger Datenstrukturen, Operatoren, Kontrollstrukturen, usw.\n",
    "- Verwendet dynamische Typisierung (Variablentyp wird zur Laufzeit festgelegt)\n",
    "- Einfache Syntax für bessere Lesbarkeit und Produktivität (z.B. Einrückungen statt Klammersetzung)"
   ]
  },
  {
   "cell_type": "markdown",
   "metadata": {},
   "source": [
    "### Einrückungen\n",
    "\n",
    "Durch Einrückungen wird der Quellcode in Bereiche getrennt. Geschweifte Klammern sind nicht nötig. Pro Zeile werden ein Tab oder 4 Leerzeichen hinzugefügt. Start- und End-Blöcke sind über den Grad der Einrückung erkennbar. Code mit mehreren Kontrollstrukturen wird aus diesem Grund sehr weit nach rechts eingerückt und schnell unlesbar.\n",
    "\n",
    "Um den Code übersichtlich zu halten können Datenstrukturen wie `list`, `dictionary` und `set` sowie Operatoren wie `iterator` verwendet werden."
   ]
  },
  {
   "cell_type": "markdown",
   "metadata": {},
   "source": [
    "### Kommentare\n",
    "\n",
    "In Python wird ein Kommentar durch das Rautezeichen `#` eingeleitet. Mehrzeilige Kommentare können durch drei Anführungszeichen (''') begrenzt werden.\n"
   ]
  },
  {
   "cell_type": "code",
   "execution_count": 1,
   "metadata": {},
   "outputs": [
    {
     "data": {
      "text/plain": [
       "'\\nDies ist\\nein mehrzeiliger\\nKommentar\\n'"
      ]
     },
     "execution_count": 1,
     "metadata": {},
     "output_type": "execute_result"
    }
   ],
   "source": [
    "# Kommentare eignen sich gut zur Erklärung des Codes.\n",
    "\n",
    "'''\n",
    "Dies ist\n",
    "ein mehrzeiliger\n",
    "Kommentar\n",
    "'''"
   ]
  },
  {
   "cell_type": "markdown",
   "metadata": {},
   "source": [
    "### Variablen\n",
    "\n",
    "Python ist dynamisch typisiert und benötigt anders als z.B.  C/C++ keine Angabe des Variablentyps. Variablen kann man sich als Container, die Werte speichern vorstellen. Diese Werte können Integer, Float, String, etc. sein. In dem Beispiel wird zunächst ein Integer-Wert von 1 und danach ein Float-Wert von 10,0 in derselben Variable `a` gespeichert. Der String \"Hallo Welt\", der zum Schluss zugewiesen wurde, ist der aktuelle Wert von `a`.  "
   ]
  },
  {
   "cell_type": "code",
   "execution_count": 2,
   "metadata": {},
   "outputs": [
    {
     "name": "stdout",
     "output_type": "stream",
     "text": [
      "Hallo Welt\n"
     ]
    }
   ],
   "source": [
    "a = 1\n",
    "a = 10.0\n",
    "a = 'Hallo Welt'\n",
    "\n",
    "print(a)"
   ]
  },
  {
   "cell_type": "markdown",
   "metadata": {},
   "source": [
    "### Operatoren\n",
    "\n",
    "Python unterstützt allgemeine arithmetische Operatoren: `+,-,*,/`\n",
    "\n",
    "Es werden zudem gängige Vergleichsoperatoren unterstützt: `>,<,==,!=,>=,<=`\n",
    "\n",
    "Durch diverse Module bietet Python zudem Operatoren für trigonometrische, mathematische und geometrische Operationen."
   ]
  },
  {
   "cell_type": "markdown",
   "metadata": {},
   "source": [
    "### Schleifen\n",
    "\n",
    "Das am häufigsten verwendete Schleifenkonstrukt in Python ist die for-Schleife, welche eine Iteration über eine Folge von Objekten ermöglicht.\n",
    "\n",
    "In dem Beispiel werden die Zahlen von 1 bis 4 ausgegeben.\n",
    "Durch die Funktion `range(min_value, max_value)` wird folgende Zahlenfolge zurückgegeben: `min_value`, `min_value + 1`, ..., `max_value - 1`. Die letzte Zahl (hier 5) wird nicht zurückgegeben!"
   ]
  },
  {
   "cell_type": "code",
   "execution_count": 3,
   "metadata": {},
   "outputs": [
    {
     "name": "stdout",
     "output_type": "stream",
     "text": [
      "1\n",
      "2\n",
      "3\n",
      "4\n"
     ]
    }
   ],
   "source": [
    "for i in range(1,5):\n",
    "     print(i)"
   ]
  },
  {
   "cell_type": "markdown",
   "metadata": {},
   "source": [
    "### if-else-Anweisungen\n",
    "\n",
    "Wie andere Programmiersprachen, unterstützt Python ebenfalls bedingte Anweisungen vom Typ *if-else*."
   ]
  },
  {
   "cell_type": "code",
   "execution_count": 4,
   "metadata": {},
   "outputs": [
    {
     "name": "stdout",
     "output_type": "stream",
     "text": [
      "a liegt zwischen 10 und 20\n"
     ]
    }
   ],
   "source": [
    "a = 15\n",
    "\n",
    "if a<10:\n",
    "     print('a ist kleiner als 10')\n",
    "elif a<20:\n",
    "     print('a liegt zwischen 10 und 20')\n",
    "else:\n",
    "     print('a ist größer als 20')"
   ]
  },
  {
   "cell_type": "markdown",
   "metadata": {},
   "source": [
    "Die if-else Anweisung erfordert nicht zwingend die Verwendung eines Vergleichsoperators wie `<,>,==`, usw."
   ]
  },
  {
   "cell_type": "code",
   "execution_count": 5,
   "metadata": {},
   "outputs": [
    {
     "name": "stdout",
     "output_type": "stream",
     "text": [
      "d ist leer\n"
     ]
    }
   ],
   "source": [
    "d = []\n",
    "\n",
    "if d:\n",
    "    print('d ist nicht leer')\n",
    "else:\n",
    "    print('d ist leer')"
   ]
  },
  {
   "cell_type": "markdown",
   "metadata": {},
   "source": [
    "### Datenstrukturen\n",
    "\n",
    "Eine große Stärke von Python ist der tolerante Umgang mit Datenstrukturen. Von Nachteil ist die vergleichsweise (z.B. gegenüber C++) geringe Ausführungsgeschwindigkeit, insbesondere, wenn eine Vielzahl von for-Schleifen verschachtelt werden.\n",
    "\n",
    "Aufgrund der dynamischen Typisierung, welches keine Deklaration von Datentyp sowie Speicherplatz einer Variablen erfordert, muss Python zur Laufzeit dynamisch Speicherplatz für Variablen allokieren. For-Schleifen sind aus diesem Grund nicht sehr effizient.\n",
    "\n",
    "Alternativ können Datenstrukturen wie `list, tuple, dictionary` oder `set` verwendet werden."
   ]
  },
  {
   "cell_type": "markdown",
   "metadata": {},
   "source": [
    "### Lists\n",
    "\n",
    "Der Datentyp *list* ist vergleichbar mit Arrays in C/C++. Zusätzlich können list-Objekte in Python allerdings Objekte verschiedener Datentypen enthalten und ebenso aus weiteren list-Objekte bestehen.\n",
    "\n",
    "Die list-Objekte sind veränderlich, Elemente können hinzugefügt oder gelöscht werden."
   ]
  },
  {
   "cell_type": "code",
   "execution_count": 6,
   "metadata": {},
   "outputs": [
    {
     "name": "stdout",
     "output_type": "stream",
     "text": [
      "['python', 'scipy']\n",
      "python\n",
      "numpy\n",
      "['python', 'scipy']\n"
     ]
    }
   ],
   "source": [
    "a = ['python','scipy', 2.7]\n",
    "a.pop(-1)\n",
    "print(a)\n",
    "\n",
    "a.insert(2, 'numpy')\n",
    "print(a[0])\n",
    "\n",
    "print(a[-1])\n",
    "\n",
    "print(a[0:2])"
   ]
  },
  {
   "cell_type": "markdown",
   "metadata": {},
   "source": [
    "In der ersten Zeile wird ein neues `list`-Objekt mit zwei Strings und einer Fließkommazahl angelegt.\n",
    "In der zweiten Zeile wird das letzte Element über die `pop`-Funktion entfernt.\n",
    "In Zeile fünf wird das Element \"numpy\" an das Ende der Liste bzw. an Position 2 angefügt.\n",
    "Anschließend wird das Element an Position 0 ausgegeben. Über den Index \"-1\" wird das letzte Element der Liste ausgewählt.\n",
    "\n",
    "In der letzten Zeile wird über die Notation `[start:stop:step]` ein Teil der Liste als neue Liste zurückgegeben (der step-Wert beträgt tandardmßig 1)."
   ]
  },
  {
   "cell_type": "markdown",
   "metadata": {},
   "source": [
    "Mit einer `for`-Schleife lässt sich auch einfach über Python Objekte wie `list` iterieren:"
   ]
  },
  {
   "cell_type": "code",
   "execution_count": 7,
   "metadata": {},
   "outputs": [
    {
     "name": "stdout",
     "output_type": "stream",
     "text": [
      "python\n",
      "scipy\n",
      "3.7\n"
     ]
    }
   ],
   "source": [
    "a = ['python','scipy',3.7]\n",
    "\n",
    "for i in a:\n",
    "     print(i)"
   ]
  },
  {
   "cell_type": "markdown",
   "metadata": {},
   "source": [
    "### Mehrdimensionale Listen\n",
    "\n",
    "Eine Liste kann weitere Listen enthalten:"
   ]
  },
  {
   "cell_type": "code",
   "execution_count": 8,
   "metadata": {},
   "outputs": [
    {
     "name": "stdout",
     "output_type": "stream",
     "text": [
      "[1, 2]\n",
      "[3, 4]\n",
      "2\n"
     ]
    }
   ],
   "source": [
    "a = [[1,2],[3,4]]\n",
    "\n",
    "print(a[0])\n",
    "print(a[1])\n",
    "print(a[0][1])"
   ]
  },
  {
   "cell_type": "markdown",
   "metadata": {},
   "source": [
    "### Listen-Funktionen (List Comprehensions)\n",
    "\n",
    "Auf Listen lassen sich zudem Funktionen anwenden. Die Sortierung einer Liste kann über die *sort*-Methode durchgeführt werden. Es wird keine neue Liste angelegt, sondern die vorhandene Liste modifiziert."
   ]
  },
  {
   "cell_type": "code",
   "execution_count": 9,
   "metadata": {},
   "outputs": [
    {
     "name": "stdout",
     "output_type": "stream",
     "text": [
      "['numpy', 'python', 'scipy']\n"
     ]
    }
   ],
   "source": [
    "a = ['python','scipy','numpy']\n",
    "\n",
    "a.sort()\n",
    "\n",
    "print(a)"
   ]
  },
  {
   "cell_type": "markdown",
   "metadata": {},
   "source": [
    "Eine Listen-Abstraktion besitzt gegenüber einer for-Schleife eine kompaktere Syntax und ist speziell bei langen Listen schneller in der Ausführung. In dem Beispiel werden die Eingangswerte quadriert."
   ]
  },
  {
   "cell_type": "code",
   "execution_count": 10,
   "metadata": {},
   "outputs": [
    {
     "name": "stdout",
     "output_type": "stream",
     "text": [
      "[0, 1, 2, 3, 4, 5, 6, 7, 8, 9]\n",
      "[0, 1, 4, 9, 16, 25, 36, 49, 64, 81]\n",
      "[0, 1, 4, 9, 16, 25, 36, 49, 64, 81]\n"
     ]
    }
   ],
   "source": [
    "a = list(range(10))\n",
    "print(a)\n",
    "\n",
    "b = [x*x for x in a]\n",
    "print(b)\n",
    "\n",
    "# for-Äquivalent\n",
    "b = []\n",
    "for x in a:\n",
    "    b.append(x*x)\n",
    "\n",
    "print(b)"
   ]
  },
  {
   "cell_type": "markdown",
   "metadata": {},
   "source": [
    "### Tuple\n",
    "\n",
    "Der Datentyp `tuple` ist ähnlich zu `list`, allerdings nicht veränderlich. Länge und Inhalt eines tuple-Objektes können während der Laufzeit des Programmes nicht geändert werden. Während bei `list` die Syntax [ ] verwendet wird, wird der Datentyp `tuple` durch () kenntlich gemacht. Wie bei `list` könnten `tuple`-Objekte ebenfalls jeden Datentyp beinhalten und somit auch andere `tuple`-Objekte beinhalten."
   ]
  },
  {
   "cell_type": "code",
   "execution_count": 11,
   "metadata": {},
   "outputs": [
    {
     "name": "stdout",
     "output_type": "stream",
     "text": [
      "(1, 2, 3, 4)\n",
      "(3,)\n",
      "3\n",
      "((1, 2), (3, 4))\n",
      "2\n"
     ]
    }
   ],
   "source": [
    "a = (1,2,3,4)\n",
    "print(a)\n",
    "\n",
    "b = (3,)\n",
    "print(b)\n",
    "print(b[0])\n",
    "\n",
    "c = ((1,2),(3,4))\n",
    "print(c)\n",
    "print(c[0][1])"
   ]
  },
  {
   "cell_type": "markdown",
   "metadata": {},
   "source": [
    "Bei der Zuweisung von `b = (3,)` (Tupel mit einem Element) ist das nachgestellte Kommazeichen zu beachten, andernfalls würde die Variable als einzelne Integer-Variable und nicht als `tuple`-Objekt interpretiert werden."
   ]
  },
  {
   "cell_type": "markdown",
   "metadata": {},
   "source": [
    "### Set\n",
    "\n",
    "Der Datentyp `set` beinhaltet eine ungeordnete Sammlung von einmaligen und unveränderlichen Objekten und kann jeden, von Python unterstützten Datentyp beinhalten. Zum Anlegen eines Objektes wird die set-Funktion verwendet. `Set` ist die Python-Umsetzung von Mengen, wie sie in der Mathematik Verwendung finden."
   ]
  },
  {
   "cell_type": "code",
   "execution_count": 12,
   "metadata": {},
   "outputs": [
    {
     "name": "stdout",
     "output_type": "stream",
     "text": [
      "{1, 2, 3, 4}\n",
      "{1, 3, 4}\n"
     ]
    }
   ],
   "source": [
    "s1 = set([1,2,3,4])\n",
    "s2 = set((1,1,3,4))\n",
    "\n",
    "print(s1)\n",
    "print(s2)"
   ]
  },
  {
   "cell_type": "markdown",
   "metadata": {},
   "source": [
    "In der ersten Zeile wird ein Set, welches ein List-Objekt beinhaltet, erstellt. Das `set`-Objekt der zweiten Zeile beinhaltet ein `tuple`-Objekt.\n",
    "Die Elemente innerhalb von set dürfen nur einmal vorkommen, daher besteht die Ausgabe von `s2` lediglich aus 3 Elementen.\n",
    "Der Datentyp unterstützt verschiedene mengentheoretische Operationen wie Vereinigung (union), Schnittmenge (intersection), Differenzmenge (difference), Symmetrischer Differenz (symmetric_difference), etc.n"
   ]
  },
  {
   "cell_type": "markdown",
   "metadata": {},
   "source": [
    "#### Entfernung redundanter Werte"
   ]
  },
  {
   "cell_type": "markdown",
   "metadata": {},
   "source": [
    "Aufgrund der Bedingung, dass `set` keine mehrfachen Werte erlaubt, lässt dich die Datenstruktur effizient für bestimmte Aufgaben verwenden, die andernfalls mehrere Schleifen sowie bedingte Anweisungen erfordern würden. \n",
    "\n",
    "In dem Beispiel werden redundante Werte aus einer list-Struktur entfernt indem das list-Objekt zunächst in set und anschließend zurück konvertiert wird."
   ]
  },
  {
   "cell_type": "code",
   "execution_count": 13,
   "metadata": {},
   "outputs": [
    {
     "name": "stdout",
     "output_type": "stream",
     "text": [
      "{1, 2, 3, 4, 5}\n",
      "[1, 2, 3, 4, 5]\n"
     ]
    }
   ],
   "source": [
    "a = [1,2,3,4,3,5]\n",
    "b = set(a)\n",
    "print(b)\n",
    "set([1, 2, 3, 4, 5])\n",
    "c = list(b)\n",
    "print(c)"
   ]
  },
  {
   "cell_type": "markdown",
   "metadata": {},
   "source": [
    "### Dictionaries\n",
    "\n",
    "Der Datentyp `dictionary` dient der Speicherung von Schlüssel-Wert-Paaren. Der Inhalt wird dabei von geschweiften Klammern { } umschlossen. Das Ansprechen eines Elementes erfolgt über Eckige Klammern [ ]."
   ]
  },
  {
   "cell_type": "code",
   "execution_count": 14,
   "metadata": {},
   "outputs": [
    {
     "name": "stdout",
     "output_type": "stream",
     "text": [
      "python\n"
     ]
    }
   ],
   "source": [
    "a = {\n",
    "         'lang':'python',\n",
    "         'ver':'3.7'\n",
    "    }\n",
    "\n",
    "print(a['lang'])"
   ]
  },
  {
   "cell_type": "markdown",
   "metadata": {},
   "source": [
    "Hier werden die Schlüssel und deren Werte mittels einer `for`-Schleife ausgegeben:"
   ]
  },
  {
   "cell_type": "code",
   "execution_count": 15,
   "metadata": {},
   "outputs": [
    {
     "name": "stdout",
     "output_type": "stream",
     "text": [
      "lang: python\n",
      "ver: 3.7\n"
     ]
    }
   ],
   "source": [
    "for key in a:\n",
    "     print(key + ': ' + a[key])"
   ]
  },
  {
   "cell_type": "markdown",
   "metadata": {},
   "source": [
    "Des Weiteren können neue Elemente hinzugefügt oder gelöscht werden. Es kann zudem geprüft werden ob ein bestimmter Schlüssel vorhanden ist oder z.B. eine Auflistung aller Schlüsselwerte ausgegeben werden:"
   ]
  },
  {
   "cell_type": "code",
   "execution_count": 16,
   "metadata": {},
   "outputs": [
    {
     "name": "stdout",
     "output_type": "stream",
     "text": [
      "{'lang': 'python', 'ver': '3.7', 'creator': 'Guido Von Rossum'}\n",
      "{'lang': 'python', 'creator': 'Guido Von Rossum'}\n",
      "False\n",
      "dict_keys(['lang', 'creator'])\n"
     ]
    }
   ],
   "source": [
    "a['creator'] = 'Guido Von Rossum'\n",
    "print(a)\n",
    "\n",
    "a.pop('ver', None)\n",
    "print(a)\n",
    "\n",
    "print('ver' in a)\n",
    "\n",
    "print(a.keys())"
   ]
  },
  {
   "cell_type": "markdown",
   "metadata": {},
   "source": [
    "Ein `dictionary`-Objekt kann in eine Liste konvertiert werden:"
   ]
  },
  {
   "cell_type": "code",
   "execution_count": 17,
   "metadata": {},
   "outputs": [
    {
     "name": "stdout",
     "output_type": "stream",
     "text": [
      "[('a', 1), ('b', 2), ('c', 3), ('d', 4), ('e', 5)]\n"
     ]
    }
   ],
   "source": [
    "dictionary = {'a': 1, 'b': 2, 'c': 3, 'd': 4, 'e': 5}\n",
    "print(list(dictionary.items()))"
   ]
  },
  {
   "cell_type": "markdown",
   "metadata": {},
   "source": [
    "### Dateioperationen\n",
    "\n",
    "Das Lesen und Schreiben von Dateien kann verwendet werden, um z.B. Konfigurationsparameter zu lesen oder Ergebnisse abzuspeichern.  \n",
    "Python unterstützt unter anderem auch Formate wie Comma-Separated-Values (csv) oder Microsoft Excel (xlxs).\n",
    "\n",
    "Schreiben und Lesen einer Textdatei:"
   ]
  },
  {
   "cell_type": "code",
   "execution_count": 18,
   "metadata": {},
   "outputs": [
    {
     "name": "stdout",
     "output_type": "stream",
     "text": [
      "C++, Bjarne Stroustrup\n",
      "\n",
      "Python, Guido Von Rossum\n",
      "\n"
     ]
    }
   ],
   "source": [
    "# schreiben\n",
    "li = {'Python, Guido Von Rossum', 'C++, Bjarne Stroustrup'}\n",
    "fo = open('file.txt', 'w')\n",
    "for i in li:\n",
    "    fo.write(i + '\\n')\n",
    "\n",
    "fo.close()\n",
    "\n",
    "# lesen\n",
    "fo = open('file.txt', 'r')\n",
    "for i in fo.readlines():\n",
    "    print(i)\n",
    "\n",
    "fo.close()"
   ]
  },
  {
   "cell_type": "markdown",
   "metadata": {},
   "source": [
    "### Benutzerdefinierte Funktionen\n",
    "\n",
    "Funktionen erlauben Teile des Quellcodes wiederzuverwenden. Eine Funktion wird in Python durch das `def`-Schlüsselwort eingeleitet."
   ]
  },
  {
   "cell_type": "code",
   "execution_count": 19,
   "metadata": {},
   "outputs": [
    {
     "name": "stdout",
     "output_type": "stream",
     "text": [
      "Flaecheninhalt und Umfang des Kreises: 78.53981633974483 31.41592653589793\n",
      "5\n"
     ]
    }
   ],
   "source": [
    "import math\n",
    "\n",
    "#Funktionsdefinition\n",
    "def circleproperties(r):\n",
    "    global g\n",
    "    g = 5\n",
    "    area = math.pi*r**2\n",
    "    circumference = 2*math.pi*r\n",
    "    return (area,circumference)\n",
    "\n",
    "\n",
    "g = 10\n",
    "#Funktionsaufruf\n",
    "(a,c) = circleproperties(5) # Kreis mit Radius 5\n",
    "print(\"Flaecheninhalt und Umfang des Kreises:\", a, c)\n",
    "print(g)"
   ]
  },
  {
   "cell_type": "markdown",
   "metadata": {},
   "source": [
    "In dem Beispiel wird innerhalb einer .py-Datei eine Funktion definiert, die Flächeninhalt und Umfang eines Kreises anhand des übergebenen Wertes für den Radius ermittelt und anschließend aufgerufen.\n",
    "Die Variablen innerhalb der Funktion sind außerhalb nicht sichtbar. Globale Variablen können über das Schlüsselwort `global` angelegt werden."
   ]
  },
  {
   "cell_type": "markdown",
   "metadata": {},
   "source": [
    "### Modulerstellung\n",
    "\n",
    "Ein Modul besteht aus einer Python Datei, die verschiedene Funktionen sowie weitere Elemente beinhalten kann. Die Funktionen eines Modules besitzen einen gemeinsamen Namensraum, der dem Dateinamen entspricht.\n",
    "\n",
    "Das folgende Beispiel zeigt ein einfaches Python Modul. Die Funktion gibt den Wert von *Pi* aus. Zusätzlich wurde eine Variable `version` definiert."
   ]
  },
  {
   "cell_type": "code",
   "execution_count": 20,
   "metadata": {},
   "outputs": [],
   "source": [
    "# Dateiname: exampleModule.py\n",
    "version = 1.0\n",
    "\n",
    "def printpi():\n",
    "    print('Der Wert von Pi lautet: 3.1415')\n"
   ]
  },
  {
   "cell_type": "markdown",
   "metadata": {},
   "source": [
    "### Laden eines Modules\n",
    "\n",
    "Das Laden eines Modules erfolgt über das Schlüsselwort `import`, gefolgt vom Dateinamen. Anschließend können Funktionen oder Variablen unter Angabe des Namensraums verwendet werden."
   ]
  },
  {
   "cell_type": "code",
   "execution_count": 1,
   "metadata": {},
   "outputs": [
    {
     "name": "stdout",
     "output_type": "stream",
     "text": [
      "Der Wert von Pi lautet: 3.1415\n",
      "1.0\n"
     ]
    }
   ],
   "source": [
    "import exampleModule\n",
    "\n",
    "exampleModule.printpi()\n",
    "print(exampleModule.version)"
   ]
  },
  {
   "cell_type": "markdown",
   "metadata": {},
   "source": [
    "Das komplette Laden eines Modules, welches eine Vielzahl von Funktionen beinhalten ist entsprechend zeitaufwändig."
   ]
  },
  {
   "cell_type": "code",
   "execution_count": null,
   "metadata": {},
   "outputs": [],
   "source": [
    "import datetime\n",
    "\n",
    "print(datetime.date.today())\n",
    "print(datetime.date(2018, 9, 4))"
   ]
  },
  {
   "cell_type": "markdown",
   "metadata": {},
   "source": [
    "Es ist daher sinnvoll nur benötigte Funktionen zu importieren."
   ]
  },
  {
   "cell_type": "code",
   "execution_count": null,
   "metadata": {},
   "outputs": [],
   "source": [
    "from datetime import date\n",
    "\n",
    "print(date.today())"
   ]
  },
  {
   "cell_type": "markdown",
   "metadata": {},
   "source": [
    "Der Name eines Moduls kann zudem umbenannt werden um den Quellcode z.B. kürzer (Übersichtlichkeit vs. Verständlichkeit) zu halten. "
   ]
  },
  {
   "cell_type": "code",
   "execution_count": null,
   "metadata": {},
   "outputs": [],
   "source": [
    "from datetime import date as da\n",
    "\n",
    "da.today()"
   ]
  },
  {
   "cell_type": "markdown",
   "metadata": {},
   "source": [
    "### Numpy\n",
    "\n",
    "Der Größte Nachteil von Python, verglichen mit C oder C++ ist die limitierte Ausführungsgeschwindigkeit. Das Modul Numpy ermöglicht den effizienten Einsatz von Arrays, Vektoren und Matrizen und ist von den Modulen Numeric und Numarray abgeleitet, um performante Array-Operationen für unterschiedliche Datengrößen zu ermöglichen.\n",
    "\n",
    "Für die Bildverarbeitung sind besonders die Funktionen zur Matrixmanipulation von Bedeutung. Numpy bietet zwei Typen von Matrix Klassen: \n",
    "\n",
    "- `array` und \n",
    "- `matrix`. \n",
    "\n",
    "Arrays sind universell für n-dimensionale Daten einsetzbar, der `matrix`-Typ ermöglicht vor allem schnelle Berechnungen im Bereich der linearen Algebra.\n",
    "\n",
    "- Matrix-Objekte besitzen einen Rang von 2 während Arrays einen Rang >2 unterstützen\n",
    "- Matrix-Objekte können mittels `*` multipliziert werden. Bei Arrays bewirkt der Operator eine elementweise Multiplikation (hier ist die Funktion `dot()` erforderlich für die Multiplikation)\n",
    "- Array ist der Standarddatentyp bei Numpy\n",
    "\n",
    "Der Typ `array` wird häufiger in Numpy und anderen Modulen verwendet. Die Typen `matrix` und `array` können ineinander umgewandelt werden, allerdings wird der Einsatz von `array` empfohlen.\n",
    "\n",
    "\n",
    "Im folgenden Beispiel wird eine $3 \\times 3$ Matrix deren Werte mit 1 initialisiert sind, erstellt:"
   ]
  },
  {
   "cell_type": "code",
   "execution_count": null,
   "metadata": {},
   "outputs": [],
   "source": [
    "import numpy as np\n",
    "\n",
    "m = np.ones([3,3])\n",
    "print(m)"
   ]
  },
  {
   "cell_type": "markdown",
   "metadata": {},
   "source": [
    "### Matplotlib\n",
    "\n",
    "\n",
    "Die Bibliothek *matplotlib* stellt Funktionen zur Erstellung von zwei- oder dreidimensionalen Plots sowie zur Visualisierung bereit.\n",
    "\n",
    "In dem Beispiel wird zunächtst ein `numpy`-Array angelegt mit den Werten von $0$ bis $2$ mit einer Schrittweite von $0,01$. Anschließend erfolgt die Darstellung sowie Speicherung des Plots."
   ]
  },
  {
   "cell_type": "code",
   "execution_count": null,
   "metadata": {},
   "outputs": [],
   "source": [
    "import matplotlib\n",
    "import matplotlib.pyplot as plt\n",
    "import numpy as np\n",
    "\n",
    "# Daten der x- und y Achse\n",
    "t = np.arange(0.0, 2.0, 0.01)\n",
    "s = 1 + np.sin(2 * np.pi * t)\n",
    "\n",
    "fig, ax = plt.subplots()\n",
    "ax.plot(t, s)\n",
    "\n",
    "ax.set(xlabel='Zeit (s)', ylabel='Spannung (V)',\n",
    "       title='Spannungsverlauf')\n",
    "ax.grid()\n",
    "\n",
    "fig.savefig(\"spannungsverlauf.png\")\n",
    "plt.show()"
   ]
  },
  {
   "cell_type": "markdown",
   "metadata": {},
   "source": [
    "### Scipy und Scikits\n",
    "\n",
    "Scipy ist eine Bibliothek die Programme und mathematische Tools für wissenschaftliches Programmieren in Python bereitstellt:\n",
    "\n",
    "- Scipy vereinfacht die Programmierung mathematischer Anwendungen wie Integration, Optimierung, Fourier Transformation, Signalverarbeitung, Statistik und Mehrdimensionale-Bildverarbeitung.\n",
    "- Dabei wird intern auf Numpy-Berechnungen zurückgegriffen.\n",
    "\n",
    "Die Bibliothek wurde 2001 durch Travis Oliphant, Eric Jones and Pearu Peterson zusammengetragen und wird mittlerweile durch eine große Entwicklergemeinde gepflegt.\n",
    "\n",
    "### Scikit-image \n",
    "\n",
    "*Scikits* bezeichnet die Kurzform von *scipy toolkits*. Dabei handelt es sich um zusätzliche Pakete mit denen *scipy* um Funktionalitäten ergänzt werden kann.\n",
    "\n",
    "- In scikit-image sind dabei Bildverarbeitungsfunktionen, zur Ein- und Ausgabe, Morphologie, Objekt Detektion and Analyse, etc. zu finden.\n",
    "\n",
    "In dem folgenden Beispiel wird ein Phantom-Bild aus dem scikit-image Beispieldatensatz geladen und invertiert. Anschließend werden beide Bilder zum Vergleich geplottet und das invertierte Bild im aktuellen Verzeichnis gespeichert. Über den Ausdruck `cmap=plt.cm.Greys_r` in der `imshow()`-Funktion wird die Ausgabe Lookup-Tabelle (Graustufen) gewählt."
   ]
  },
  {
   "cell_type": "code",
   "execution_count": null,
   "metadata": {
    "scrolled": false
   },
   "outputs": [],
   "source": [
    "import numpy as np\n",
    "import matplotlib.pyplot as plt\n",
    "from skimage.io import imread, imsave\n",
    "from skimage import data_dir\n",
    "from skimage.util import img_as_ubyte, img_as_int, invert\n",
    "\n",
    "\n",
    "image_phantom = imread(data_dir + \"/phantom.png\", as_gray=True)\n",
    "image_invert = invert(image_phantom)\n",
    "\n",
    "imsave(\"Invertierung.png\", image_invert)\n",
    "\n",
    "fig, (ax1, ax2) = plt.subplots(1, 2, figsize=(12, 4.5))\n",
    "\n",
    "ax1.set_title(\"Original\")\n",
    "pos1 = ax1.imshow(img_as_ubyte(image_phantom), cmap=plt.cm.Greys_r)\n",
    "fig.colorbar(pos1, ax=ax1)\n",
    "\n",
    "ax2.set_title(\"Invertierung\")\n",
    "pos2 = ax2.imshow(img_as_ubyte(image_invert), cmap=plt.cm.Greys_r)\n",
    "fig.colorbar(pos2, ax=ax2)\n",
    "\n",
    "fig.tight_layout()\n",
    "plt.show()\n"
   ]
  },
  {
   "cell_type": "markdown",
   "metadata": {},
   "source": [
    "## Aufgaben zur Bildverarbeitung"
   ]
  },
  {
   "cell_type": "markdown",
   "metadata": {},
   "source": [
    "### Farbbilder\n",
    "\n",
    "\n",
    "Im folgenden Beispiel wird ein Farbbild der Retina eingelesen, in Graustufen konvertiert und anschließend dargestellt:\n"
   ]
  },
  {
   "cell_type": "code",
   "execution_count": null,
   "metadata": {
    "scrolled": true
   },
   "outputs": [],
   "source": [
    "import numpy as np\n",
    "import matplotlib.pyplot as plt\n",
    "from skimage.io import imread, imsave\n",
    "from skimage import data_dir\n",
    "from skimage.util import img_as_ubyte, img_as_int, invert\n",
    "\n",
    "\n",
    "image_retina = imread(\"retina.jpg\")\n",
    "\n",
    "fig, ax = plt.subplots()\n",
    "ax.set_title(\"RGB-Farbbild\")\n",
    "img = ax.imshow(img_as_ubyte(image_retina))\n",
    "\n",
    "fig.tight_layout()\n",
    "plt.show()"
   ]
  },
  {
   "cell_type": "markdown",
   "metadata": {},
   "source": [
    "### RGB-Farbraum\n",
    "\n",
    "In diesem Code-Auszug ist die Aufsplittung eines RGB-Bildes in die einzelnen Kanäle gezeigt:"
   ]
  },
  {
   "cell_type": "code",
   "execution_count": null,
   "metadata": {},
   "outputs": [],
   "source": [
    "r = image_retina[:,:,0]\n",
    "g = image_retina[:,:,1]\n",
    "b = image_retina[:,:,2]\n",
    "\n",
    "fig, (ax1, ax2, ax3) = plt.subplots(1, 3, figsize=(12, 4.5))\n",
    "\n",
    "ax1.set_title(\"R\")\n",
    "pos1 = ax1.imshow(img_as_ubyte(r), cmap=plt.cm.Greys_r)\n",
    "ax1.axis('off')\n",
    "\n",
    "ax2.set_title(\"G\")\n",
    "pos2 = ax2.imshow(img_as_ubyte(g), cmap=plt.cm.Greys_r)\n",
    "ax2.axis('off')\n",
    "\n",
    "ax3.set_title(\"B\")\n",
    "pos3 = ax3.imshow(img_as_ubyte(b), cmap=plt.cm.Greys_r)\n",
    "ax3.axis('off')\n",
    "\n",
    "fig.tight_layout()\n",
    "plt.show()"
   ]
  },
  {
   "cell_type": "markdown",
   "metadata": {},
   "source": [
    "### Graustufen Darstellung\n",
    "\n",
    "Über die Funktion `rgb2gray()` lässt sich ein RGB-Bild in ein Graustufen-Bild umwandeln: "
   ]
  },
  {
   "cell_type": "code",
   "execution_count": null,
   "metadata": {},
   "outputs": [],
   "source": [
    "from skimage.color import rgb2gray\n",
    "\n",
    "image_gray = img_as_ubyte(rgb2gray(image_retina))\n",
    "\n",
    "fig, ax = plt.subplots()\n",
    "\n",
    "ax.set_title(\"Graustufenbild\")\n",
    "img = ax.imshow(image_gray, cmap=plt.cm.Greys_r)\n",
    "\n",
    "fig.tight_layout()\n",
    "plt.show()"
   ]
  },
  {
   "cell_type": "markdown",
   "metadata": {},
   "source": [
    "**Aufgabe:** Verwenden Sie die RGB-Kanäle und Implementieren Sie die Konvertierung in Graustufen selbst. Die Berechnungsvorschrift finden Sie unter https://scikit-image.org/docs/dev/auto_examples/color_exposure/plot_rgb_to_gray.html. Plotten Sie Ihr Ergebnis. "
   ]
  },
  {
   "cell_type": "markdown",
   "metadata": {},
   "source": [
    "**Frage:** Woraus ergeben sich die unterschiedlichen Gewichtungsfaktoren? \n",
    "    \n",
    "**Antwort:**"
   ]
  },
  {
   "cell_type": "code",
   "execution_count": null,
   "metadata": {},
   "outputs": [],
   "source": [
    "# Hier Quellcode einfügen\n"
   ]
  },
  {
   "cell_type": "markdown",
   "metadata": {},
   "source": [
    "### HSV-Farbraum\n",
    "\n",
    "**Aufgabe:** Konvertieren Sie das RGB-Bild der Retina in eine HSV-Darstellung und Plotten Sie die einzelnen Kanäle.  \n",
    "\n",
    "**Frage:** Wie Interpretieren Sie den V-Wert?\n",
    "\n",
    "**Antwort:** "
   ]
  },
  {
   "cell_type": "code",
   "execution_count": null,
   "metadata": {},
   "outputs": [],
   "source": [
    "# Hier Quellcode einfügen\n"
   ]
  },
  {
   "cell_type": "markdown",
   "metadata": {},
   "source": [
    "### Histogramm \n",
    "\n",
    "Histogramme sind ein einfaches Mittel zur Beurteilung von Bildeigenschaften.\n",
    "\n",
    "**Aufgabe:** Erstellen Sie das normalisierte Histogramm von `image_gray` . Nutzen Sie dazu z.B. die `hist()` Funktion von matplotlib. \n",
    "\n",
    "**Frage:** Welchen Vorteil bietet ein normalisiertes Histogramm gegenüber der unnormalisierten Form? \n",
    "\n",
    "**Antwort:**\n",
    "\n"
   ]
  },
  {
   "cell_type": "code",
   "execution_count": null,
   "metadata": {},
   "outputs": [],
   "source": [
    "# Hier Quellcode einfügen\n"
   ]
  },
  {
   "cell_type": "markdown",
   "metadata": {},
   "source": [
    "### Kumulatives Histogramm"
   ]
  },
  {
   "cell_type": "markdown",
   "metadata": {},
   "source": [
    "**Aufgabe:** Erstellen Sie das kumulative Histogramm des Graustufenbildes (Hinweis: https://scikit-image.org/docs/dev/api/skimage.exposure.html#skimage.exposure.cumulative_distribution).\n",
    "\n",
    "Implementieren Sie anschließend eine Funktion, die ein übergebenes Eingangsbild, das normiertes Histogramm sowie das kumulative Histogramm nebeneinander in einer Zeile plottet und rufen Sie die Funktion auf.\n"
   ]
  },
  {
   "cell_type": "code",
   "execution_count": null,
   "metadata": {},
   "outputs": [],
   "source": [
    "# Hier Quellcode einfügen\n",
    " "
   ]
  },
  {
   "cell_type": "markdown",
   "metadata": {},
   "source": [
    "### Gamma Korrektur\n",
    "\n",
    "Plotten Sie die Bilddatei `retina_gamma.png`. Führen Sie anschließend eine Gamma-Korrektur (Formel selbst anwenden) mit einem passenden Wert durch und plotten Sie das Ergebnisbild mit den zugehörigen Histogrammen unter Verwendung der oben erstellten Funktion. Überprüfen Sie ihr Ergebnis mit der Funktion `adjust_gamma` (https://scikit-image.org/docs/dev/api/skimage.exposure.html#skimage.exposure.adjust_gamma). "
   ]
  },
  {
   "cell_type": "code",
   "execution_count": null,
   "metadata": {},
   "outputs": [],
   "source": [
    "# Hier Quellcode einfügen\n"
   ]
  },
  {
   "cell_type": "markdown",
   "metadata": {},
   "source": [
    "### Kontrastreckung\n",
    "\n",
    "Öffnen und plotten Sie die Bilddatei `head.png`. Führen Sie anschließend eine Kontraststreckung mit der Funktion `rescale_intensity` durch und visualisieren Sie das Ergebnis zum Vergleich. Achten Sie dabei auf eine sinnvolle Wahl der Parameter $a_{min}$ und $a_{max}$.   "
   ]
  },
  {
   "cell_type": "code",
   "execution_count": null,
   "metadata": {},
   "outputs": [],
   "source": [
    "# Hier Quellcode einfügen\n"
   ]
  },
  {
   "cell_type": "markdown",
   "metadata": {},
   "source": [
    "### Histogramm-Entzerrung\n",
    "\n",
    "Führen Sie eine Histogramm-Entzerrung auf dem Eingangsbild (`head.png`) durch (https://scikit-image.org/docs/dev/api/skimage.exposure.html#skimage.exposure.equalize_hist).\n",
    "\n",
    "\n",
    "\n",
    "**Fragen:** Welche Annahme liegt der Histogramm-Entzerrung zu Grunde? Ist die Annahme in jedem Fall gerechtfertigt? \n",
    "\n",
    "**Antwort:** "
   ]
  },
  {
   "cell_type": "code",
   "execution_count": null,
   "metadata": {},
   "outputs": [],
   "source": [
    "# Hier Quellcode einfügen\n"
   ]
  },
  {
   "cell_type": "markdown",
   "metadata": {},
   "source": [
    "**Frage:** Mit welchen Alternativen zur globalen Histogramm-Entzerrung lassen sich möglicherweise bessere Ergebnisse erzielen und warum?\n",
    "\n",
    "**Antwort:** "
   ]
  },
  {
   "cell_type": "code",
   "execution_count": null,
   "metadata": {},
   "outputs": [],
   "source": []
  },
  {
   "cell_type": "code",
   "execution_count": null,
   "metadata": {},
   "outputs": [],
   "source": []
  }
 ],
 "metadata": {
  "kernelspec": {
   "display_name": "Python 3",
   "language": "python",
   "name": "python3"
  },
  "language_info": {
   "codemirror_mode": {
    "name": "ipython",
    "version": 3
   },
   "file_extension": ".py",
   "mimetype": "text/x-python",
   "name": "python",
   "nbconvert_exporter": "python",
   "pygments_lexer": "ipython3",
   "version": "3.7.0"
  }
 },
 "nbformat": 4,
 "nbformat_minor": 2
}
